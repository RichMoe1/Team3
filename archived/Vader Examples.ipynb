{
 "cells": [
  {
   "cell_type": "code",
   "execution_count": 11,
   "metadata": {},
   "outputs": [],
   "source": [
    "# Import and Initialize Sentiment Analyzer\n",
    "from vaderSentiment.vaderSentiment import SentimentIntensityAnalyzer\n",
    "analyzer = SentimentIntensityAnalyzer()"
   ]
  },
  {
   "cell_type": "code",
   "execution_count": 12,
   "metadata": {},
   "outputs": [
    {
     "data": {
      "text/plain": [
       "{'neg': 0.0, 'neu': 1.0, 'pos': 0.0, 'compound': 0.0}"
      ]
     },
     "execution_count": 12,
     "metadata": {},
     "output_type": "execute_result"
    }
   ],
   "source": [
    "negative_but_neutral = analyzer.polarity_scores('your mom is a dog')\n",
    "negative_but_neutral"
   ]
  },
  {
   "cell_type": "code",
   "execution_count": 13,
   "metadata": {},
   "outputs": [
    {
     "data": {
      "text/plain": [
       "{'neg': 0.379, 'neu': 0.621, 'pos': 0.0, 'compound': -0.9524}"
      ]
     },
     "execution_count": 13,
     "metadata": {},
     "output_type": "execute_result"
    }
   ],
   "source": [
    "negative = analyzer.polarity_scores(\"Fuck that shit, 'cause I ain't the one \\\n",
    "for a punk motherfucker with a badge and a gun \\\n",
    "to be beating on, and thrown in jail \\\n",
    "We can go toe to toe in the middle of a cell\")\n",
    "negative"
   ]
  },
  {
   "cell_type": "code",
   "execution_count": 14,
   "metadata": {},
   "outputs": [
    {
     "data": {
      "text/plain": [
       "{'neg': 0.0, 'neu': 0.575, 'pos': 0.425, 'compound': 0.9846}"
      ]
     },
     "execution_count": 14,
     "metadata": {},
     "output_type": "execute_result"
    }
   ],
   "source": [
    "positive = analyzer.polarity_scores(\"Huh, because I'm happy \\\n",
    "Clap along if you feel like a room without a roof \\\n",
    "Because I'm happy \\\n",
    "Clap along if you feel like happiness is the truth \\\n",
    "Because I'm happy \\\n",
    "Clap along if you know what happiness is to you \\\n",
    "Because I'm happy \\\n",
    "Clap along if you feel like that's what you wanna do\")\n",
    "positive"
   ]
  },
  {
   "cell_type": "code",
   "execution_count": 15,
   "metadata": {},
   "outputs": [
    {
     "data": {
      "text/plain": [
       "{'neg': 0.0, 'neu': 0.352, 'pos': 0.648, 'compound': 0.9723}"
      ]
     },
     "execution_count": 15,
     "metadata": {},
     "output_type": "execute_result"
    }
   ],
   "source": [
    "barney = analyzer.polarity_scores(\"I love you, you love me, \\\n",
    "                                  we're a happy family, \\\n",
    "                                  with a great big hug, \\\n",
    "                                  and a kiss from me to you\")\n",
    "barney"
   ]
  },
  {
   "cell_type": "code",
   "execution_count": null,
   "metadata": {},
   "outputs": [],
   "source": []
  }
 ],
 "metadata": {
  "kernelspec": {
   "display_name": "Python 3",
   "language": "python",
   "name": "python3"
  },
  "language_info": {
   "codemirror_mode": {
    "name": "ipython",
    "version": 3
   },
   "file_extension": ".py",
   "mimetype": "text/x-python",
   "name": "python",
   "nbconvert_exporter": "python",
   "pygments_lexer": "ipython3",
   "version": "3.6.5"
  }
 },
 "nbformat": 4,
 "nbformat_minor": 2
}
