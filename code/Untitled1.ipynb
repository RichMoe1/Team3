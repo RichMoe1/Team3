{
 "cells": [
  {
   "cell_type": "code",
   "execution_count": 1,
   "metadata": {},
   "outputs": [],
   "source": [
    "from vaderSentiment.vaderSentiment import SentimentIntensityAnalyzer\n",
    "analyzer = SentimentIntensityAnalyzer()"
   ]
  },
  {
   "cell_type": "code",
   "execution_count": 2,
   "metadata": {},
   "outputs": [],
   "source": [
    "string = \"Hey Jude, don't make it bad. Take a sad song and make it better. Remember to let her into your heart. Then you can start to make it better. . Hey Jude, don't be afraid. You were made to go out and get her. The minute you let her under your skin. Then you begin to make it better. . And any time you feel the pain. Hey Jude, refrain. Don't carry the world upon your shoulder. For well you know that it's a fool. Who plays it cool. By making his world a little colder. Na na na naa-naa. Na-na-naa naaa. . Hey Jude, don't let me down. You have found her, now go and get her. (Let it out and let it in). Remember (hey Jude) to let her into your heart. Then you can start to make it better. . So let it out and let it in. Hey Jude, begin. You're waiting for someone to perform with. And don't you know that it's just you. Hey Jude, you'll do. The movement you n\""
   ]
  },
  {
   "cell_type": "code",
   "execution_count": 4,
   "metadata": {},
   "outputs": [
    {
     "name": "stdout",
     "output_type": "stream",
     "text": [
      "0.8608\n",
      "0.111\n",
      "0.84\n",
      "0.049\n"
     ]
    }
   ],
   "source": [
    "results = analyzer.polarity_scores(string)\n",
    "compound = results[\"compound\"]\n",
    "pos = results[\"pos\"]\n",
    "neu = results[\"neu\"]\n",
    "neg = results[\"neg\"]\n",
    "    \n",
    "print(compound)\n",
    "print(pos)\n",
    "print(neu)\n",
    "print(neg)"
   ]
  },
  {
   "cell_type": "code",
   "execution_count": null,
   "metadata": {},
   "outputs": [],
   "source": []
  }
 ],
 "metadata": {
  "kernelspec": {
   "display_name": "Python [conda env:PythonData]",
   "language": "python",
   "name": "conda-env-PythonData-py"
  },
  "language_info": {
   "codemirror_mode": {
    "name": "ipython",
    "version": 3
   },
   "file_extension": ".py",
   "mimetype": "text/x-python",
   "name": "python",
   "nbconvert_exporter": "python",
   "pygments_lexer": "ipython3",
   "version": "3.6.5"
  }
 },
 "nbformat": 4,
 "nbformat_minor": 2
}
